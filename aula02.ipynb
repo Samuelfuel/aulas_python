{
 "cells": [
  {
   "cell_type": "code",
   "execution_count": 1,
   "metadata": {},
   "outputs": [
    {
     "name": "stdout",
     "output_type": "stream",
     "text": [
      "Inteiros: [1, 2, 3, 4, 5]\n",
      "Floats: [1.1, 2.2, 3.3, 4.4, 5.5]\n",
      "Strings: ['um', 'dois', 'três', 'quatro', 'cinco']\n",
      "Booleanos: [True, False, True, False, True]\n"
     ]
    }
   ],
   "source": [
    "# Dicionário com diferentes tipos de dados e cinco membros de cada tipo\n",
    "meu_dicionario = {\n",
    "    \"inteiros\": [1, 2, 3, 4, 5],                  # Lista de ints\n",
    "    \"floats\": [1.1, 2.2, 3.3, 4.4, 5.5],          # Lista de floatsg\n",
    "    \"strings\": [\"um\", \"dois\", \"três\", \"quatro\", \"cinco\"],  # Lista de strings\n",
    "    \"booleanos\": [True, False, True, False, True]  # Lista de booleanos\n",
    "}\n",
    "\n",
    "# Imprimindo o dicionário e os tipos de dados\n",
    "for chave, valor in meu_dicionario.items():\n",
    "    print(f\"{chave.capitalize()}: {valor}\")\n"
   ]
  },
  {
   "cell_type": "code",
   "execution_count": 2,
   "metadata": {},
   "outputs": [
    {
     "name": "stdout",
     "output_type": "stream",
     "text": [
      "Meu nome é Felipe Casagrande\n"
     ]
    }
   ],
   "source": [
    "nomef=\"Felipe Casagrande\"\n",
    "print(f\"Meu nome é {nomef}\")"
   ]
  },
  {
   "cell_type": "code",
   "execution_count": 3,
   "metadata": {},
   "outputs": [
    {
     "name": "stdout",
     "output_type": "stream",
     "text": [
      "Meu nome é Samuel Carneiro\n"
     ]
    }
   ],
   "source": [
    "nomes=\"Samuel Carneiro\"\n",
    "print(f\"Meu nome é {nomes}\")"
   ]
  },
  {
   "cell_type": "code",
   "execution_count": 6,
   "metadata": {},
   "outputs": [
    {
     "name": "stdout",
     "output_type": "stream",
     "text": [
      "Area: 25\n",
      "Perimetro: 20\n",
      "Area: 25.00\n",
      "Perimetro: 20.00\n",
      "É quadrado: True\n",
      "É quadrado: True\n"
     ]
    }
   ],
   "source": [
    "altura=float(input(\"Digite a altura: \"))\n",
    "largura=float(input(\"Digite a largura: \"))\n",
    "\n",
    "#Cálculos\n",
    "area=largura*altura\n",
    "perimetro=2*(largura+altura)\n",
    "\n",
    "#Impressões\n",
    "print(\"Area: \"+str(round(area)))\n",
    "print(\"Perimetro: \"+str(round(perimetro)))\n",
    "print(f\"Area: {area:.2f}\")\n",
    "print(f\"Perimetro: {perimetro:.2f}\")\n",
    "\n",
    "#Eh quadrado?\n",
    "eh_quadrado=largura==altura\n",
    "print(\"É quadrado: \"+str(eh_quadrado))\n",
    "print(f\"É quadrado: {eh_quadrado}\")\n",
    "\n",
    "\n"
   ]
  },
  {
   "cell_type": "code",
   "execution_count": 9,
   "metadata": {},
   "outputs": [
    {
     "name": "stdout",
     "output_type": "stream",
     "text": [
      "True False True\n"
     ]
    }
   ],
   "source": [
    "verificador1= True \n",
    "eh_quadrado=largura==altura\n",
    "verificador2= False\n",
    "\n",
    "print(f\"{verificador1} } {eh_quadrado}\")"
   ]
  },
  {
   "cell_type": "code",
   "execution_count": 23,
   "metadata": {},
   "outputs": [
    {
     "name": "stdout",
     "output_type": "stream",
     "text": [
      "27\n"
     ]
    }
   ],
   "source": [
    "nome1=\" Viviane de Araujo Duca Carneiro \"\n",
    "nome_sem_espaco= nome1.replace(\" \", \"\")\n",
    "print(len(nome_sem_espaco))"
   ]
  },
  {
   "cell_type": "code",
   "execution_count": 35,
   "metadata": {},
   "outputs": [
    {
     "name": "stdout",
     "output_type": "stream",
     "text": [
      "Peso em libras: 193.33333333333331\n",
      "Peso em Libras: 193.33333333333331\n"
     ]
    }
   ],
   "source": [
    "peso=float(input(\"Digite seu peso: \\n\"))\n",
    "unidade=input(\"Digite (K) para kilos e (L) para libras: \\n\")\n",
    "if unidade.upper() == \"K\":\n",
    "    convertor=peso/ (0.45)\n",
    "    print(\"Peso em libras: \"+str(convertor))\n",
    "    print(f\"Peso em Libras: {str(convertor)}\")\n",
    "else:\n",
    "    convertor=peso*(0.45)\n",
    "    print(\"Peso em Kilos: \"+str(convertor))\n",
    "    print(f\"Peso em kilos: {str(convertor)}\")"
   ]
  },
  {
   "cell_type": "code",
   "execution_count": 39,
   "metadata": {},
   "outputs": [
    {
     "name": "stdout",
     "output_type": "stream",
     "text": [
      "Weight in pounds: 140.0\n"
     ]
    }
   ],
   "source": [
    "weight=float(input(\"Weight: \"))\n",
    "unit=input(\"Digite (K)g or (L)bs: \")\n",
    "if unit.upper()==\"K\":\n",
    "    convertor=weight/0.45\n",
    "    print(\"Weight in pounds: \"+str(convertor))\n",
    "else:\n",
    "    convertor=weight*0.45\n",
    "    print(\"Weight in Kilos: \"+str(convertor))"
   ]
  },
  {
   "cell_type": "markdown",
   "metadata": {},
   "source": []
  },
  {
   "cell_type": "code",
   "execution_count": 40,
   "metadata": {},
   "outputs": [
    {
     "ename": "KeyboardInterrupt",
     "evalue": "Interrupted by user",
     "output_type": "error",
     "traceback": [
      "\u001b[0;31m---------------------------------------------------------------------------\u001b[0m",
      "\u001b[0;31mKeyboardInterrupt\u001b[0m                         Traceback (most recent call last)",
      "Cell \u001b[0;32mIn[40], line 3\u001b[0m\n\u001b[1;32m      1\u001b[0m \u001b[38;5;66;03m#Infomacoes:\u001b[39;00m\n\u001b[0;32m----> 3\u001b[0m nome1\u001b[38;5;241m=\u001b[39m\u001b[38;5;28;43minput\u001b[39;49m\u001b[43m(\u001b[49m\u001b[38;5;124;43m\"\u001b[39;49m\u001b[38;5;124;43mDigite seu nome: \u001b[39;49m\u001b[38;5;124;43m\"\u001b[39;49m\u001b[43m)\u001b[49m\n\u001b[1;32m      4\u001b[0m nome2\u001b[38;5;241m=\u001b[39m\u001b[38;5;28minput\u001b[39m(\u001b[38;5;124m\"\u001b[39m\u001b[38;5;124mDigite nome do seu Pai: \u001b[39m\u001b[38;5;124m\"\u001b[39m)\n\u001b[1;32m      5\u001b[0m \u001b[38;5;28mprint\u001b[39m(\u001b[38;5;124mf\u001b[39m\u001b[38;5;124m\"\u001b[39m\u001b[38;5;124mNome: \u001b[39m\u001b[38;5;132;01m{\u001b[39;00mnome1\u001b[38;5;132;01m}\u001b[39;00m\u001b[38;5;130;01m\\n\u001b[39;00m\u001b[38;5;124mNome do Pai: \u001b[39m\u001b[38;5;132;01m{\u001b[39;00mnome2\u001b[38;5;132;01m}\u001b[39;00m\u001b[38;5;124m\"\u001b[39m)\n",
      "File \u001b[0;32m~/Library/Python/3.13/lib/python/site-packages/ipykernel/kernelbase.py:1282\u001b[0m, in \u001b[0;36mKernel.raw_input\u001b[0;34m(self, prompt)\u001b[0m\n\u001b[1;32m   1280\u001b[0m     msg \u001b[38;5;241m=\u001b[39m \u001b[38;5;124m\"\u001b[39m\u001b[38;5;124mraw_input was called, but this frontend does not support input requests.\u001b[39m\u001b[38;5;124m\"\u001b[39m\n\u001b[1;32m   1281\u001b[0m     \u001b[38;5;28;01mraise\u001b[39;00m StdinNotImplementedError(msg)\n\u001b[0;32m-> 1282\u001b[0m \u001b[38;5;28;01mreturn\u001b[39;00m \u001b[38;5;28;43mself\u001b[39;49m\u001b[38;5;241;43m.\u001b[39;49m\u001b[43m_input_request\u001b[49m\u001b[43m(\u001b[49m\n\u001b[1;32m   1283\u001b[0m \u001b[43m    \u001b[49m\u001b[38;5;28;43mstr\u001b[39;49m\u001b[43m(\u001b[49m\u001b[43mprompt\u001b[49m\u001b[43m)\u001b[49m\u001b[43m,\u001b[49m\n\u001b[1;32m   1284\u001b[0m \u001b[43m    \u001b[49m\u001b[38;5;28;43mself\u001b[39;49m\u001b[38;5;241;43m.\u001b[39;49m\u001b[43m_parent_ident\u001b[49m\u001b[43m[\u001b[49m\u001b[38;5;124;43m\"\u001b[39;49m\u001b[38;5;124;43mshell\u001b[39;49m\u001b[38;5;124;43m\"\u001b[39;49m\u001b[43m]\u001b[49m\u001b[43m,\u001b[49m\n\u001b[1;32m   1285\u001b[0m \u001b[43m    \u001b[49m\u001b[38;5;28;43mself\u001b[39;49m\u001b[38;5;241;43m.\u001b[39;49m\u001b[43mget_parent\u001b[49m\u001b[43m(\u001b[49m\u001b[38;5;124;43m\"\u001b[39;49m\u001b[38;5;124;43mshell\u001b[39;49m\u001b[38;5;124;43m\"\u001b[39;49m\u001b[43m)\u001b[49m\u001b[43m,\u001b[49m\n\u001b[1;32m   1286\u001b[0m \u001b[43m    \u001b[49m\u001b[43mpassword\u001b[49m\u001b[38;5;241;43m=\u001b[39;49m\u001b[38;5;28;43;01mFalse\u001b[39;49;00m\u001b[43m,\u001b[49m\n\u001b[1;32m   1287\u001b[0m \u001b[43m\u001b[49m\u001b[43m)\u001b[49m\n",
      "File \u001b[0;32m~/Library/Python/3.13/lib/python/site-packages/ipykernel/kernelbase.py:1325\u001b[0m, in \u001b[0;36mKernel._input_request\u001b[0;34m(self, prompt, ident, parent, password)\u001b[0m\n\u001b[1;32m   1322\u001b[0m \u001b[38;5;28;01mexcept\u001b[39;00m \u001b[38;5;167;01mKeyboardInterrupt\u001b[39;00m:\n\u001b[1;32m   1323\u001b[0m     \u001b[38;5;66;03m# re-raise KeyboardInterrupt, to truncate traceback\u001b[39;00m\n\u001b[1;32m   1324\u001b[0m     msg \u001b[38;5;241m=\u001b[39m \u001b[38;5;124m\"\u001b[39m\u001b[38;5;124mInterrupted by user\u001b[39m\u001b[38;5;124m\"\u001b[39m\n\u001b[0;32m-> 1325\u001b[0m     \u001b[38;5;28;01mraise\u001b[39;00m \u001b[38;5;167;01mKeyboardInterrupt\u001b[39;00m(msg) \u001b[38;5;28;01mfrom\u001b[39;00m\u001b[38;5;250m \u001b[39m\u001b[38;5;28;01mNone\u001b[39;00m\n\u001b[1;32m   1326\u001b[0m \u001b[38;5;28;01mexcept\u001b[39;00m \u001b[38;5;167;01mException\u001b[39;00m:\n\u001b[1;32m   1327\u001b[0m     \u001b[38;5;28mself\u001b[39m\u001b[38;5;241m.\u001b[39mlog\u001b[38;5;241m.\u001b[39mwarning(\u001b[38;5;124m\"\u001b[39m\u001b[38;5;124mInvalid Message:\u001b[39m\u001b[38;5;124m\"\u001b[39m, exc_info\u001b[38;5;241m=\u001b[39m\u001b[38;5;28;01mTrue\u001b[39;00m)\n",
      "\u001b[0;31mKeyboardInterrupt\u001b[0m: Interrupted by user"
     ]
    }
   ],
   "source": [
    "#Infomacoes:\n",
    "\n",
    "nome1=input(\"Digite seu nome: \")\n",
    "nome2=input(\"Digite nome do seu Pai: \")\n",
    "print(f\"Nome: {nome1}\\nNome do Pai: {nome2}\")\n",
    "\n",
    "#Mesmo nome?\n",
    "print(\"É o mesmo nome: \\n\"+nome1==nome2)\n",
    "\n",
    "#Numeor de caracteres:\n",
    "print(len(nome1.replace(\" \", \"\")))\n",
    "print(len(nome2.replace(\" \", \"\")))\n",
    "\n",
    "#Removendo os espacos pra comparar os numeros de caracteres:\n",
    "nome_redux1= len(nome1.replace(\" \",\"\"))\n",
    "nome_redux2= len(nome2.replace(\" \",\"\"))\n",
    "\n",
    "#Comparando numero de caracteres:\n",
    "print(nome_redux1==nome_redux2)"
   ]
  }
 ],
 "metadata": {
  "kernelspec": {
   "display_name": "Python 3",
   "language": "python",
   "name": "python3"
  },
  "language_info": {
   "codemirror_mode": {
    "name": "ipython",
    "version": 3
   },
   "file_extension": ".py",
   "mimetype": "text/x-python",
   "name": "python",
   "nbconvert_exporter": "python",
   "pygments_lexer": "ipython3",
   "version": "3.13.1"
  }
 },
 "nbformat": 4,
 "nbformat_minor": 2
}
